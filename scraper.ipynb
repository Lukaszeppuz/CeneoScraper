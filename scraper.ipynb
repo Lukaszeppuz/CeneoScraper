{
 "cells": [
  {
   "cell_type": "markdown",
   "metadata": {},
   "source": [
    "# Ceneo Scraper\n",
    "\n",
    "## Lista kroków \"manualnych\"\n",
    "\n",
    "1. Wejdź na stronę produktu / z opiniami o produkcie\n",
    "2. Dla każdej opinii na stronie\\\n",
    "    A. Skpiuj opinię\\\n",
    "    B. Wklej opinię do edytora tekstu\n",
    "3. Przejdz do klejnej strony z opiami\n",
    "4. Powtarzaj kroki 2-3 dopóki są strony z opiniami\n",
    "## Lista kroków scrapera\n",
    "\n",
    "1. Wysłanie żądania dostępu do zasobu - strona z opiniami o produkcie\n",
    "2. Wydobycie z kodu HTML fragmentów odpowiadających opiniom\n",
    "3. Dla każdej opinii na stronie/\n",
    "    A. Wydobycie z kodu opini jej składowych do słownika/\n",
    "    B. Dodanie słownika reprezentującego pojedynczą opinię do listy\n",
    "4. Przejdź do kolejnej strony z opiniami\n",
    "5. Powtarzaj kroki 1-4 dopóki są strony z opiniami\n",
    "6. Zapis listy słowników do pliku JSON"
   ]
  },
  {
   "cell_type": "markdown",
   "metadata": {},
   "source": [
    " ## Struktura opini w serwisie Ceneo.pl\n",
    "\n",
    "|składowa|nazwa|selektor|\n",
    "|--------|-----|--------|\n",
    "|identyfikator opinii|opinion_id|[\"data-entry-id\"]|\n",
    "|autor|author|.user-post__author-name|\n",
    "|rekomendacja|recommendation|.user-post__author-recomendation > em|\n",
    "|liczba gwiazdek|stars|.user-post__score-count|\n",
    "|treść opinii|content|div.user-post__text|\n",
    "|lista zalet|pros|.review-feature__title--positives ~ .review-feature__item|\n",
    "|lista wad|cons|.review-feature__title--negaives ~ .review-feature__item|\n",
    "|data wystawienia opinii|post_date| span.user-post__published > time:nth-child(1)[\"datetime\"]|\n",
    "|data zakupu produktu|purchase_date| span.user-post__published > time:nth-child(2)[\"datetime\"]|\n",
    "|ile osób uznało opinię za przydatną|useful|.vote-yes > span|\n",
    "|ile osób uznało opinię za nieprzydatną|useless|.vote-no > span|\n",
    "\n",
    "\n",
    ".user-post[data-entry-id]"
   ]
  },
  {
   "cell_type": "markdown",
   "metadata": {},
   "source": [
    "### 1. Importowanie Bibliotek"
   ]
  },
  {
   "cell_type": "code",
   "execution_count": 8,
   "metadata": {},
   "outputs": [],
   "source": [
    "import requests\n",
    "from bs4 import BeautifulSoup\n",
    "import os\n",
    "import json"
   ]
  },
  {
   "cell_type": "markdown",
   "metadata": {},
   "source": [
    "### 2. Definicje funkcji"
   ]
  },
  {
   "cell_type": "code",
   "execution_count": 9,
   "metadata": {},
   "outputs": [],
   "source": [
    "def get_data(ancestor, selector, attribute=None, return_list=False):\n",
    "    if return_list:\n",
    "        return [tag.text.strip() for tag in ancestor.select(selector)]\n",
    "    if attribute:\n",
    "        if selector:\n",
    "            try:\n",
    "                return ancestor.select_one(selector)[attribute].strip()\n",
    "            except TypeError:\n",
    "                return None\n",
    "        return ancestor[attribute].strip()\n",
    "    try:\n",
    "        return ancestor.select_one(selector).text.strip()\n",
    "    except AttributeError:\n",
    "        return None"
   ]
  },
  {
   "cell_type": "markdown",
   "metadata": {},
   "source": [
    "### 3. Definicje stalych i zmiennych globalnych"
   ]
  },
  {
   "cell_type": "code",
   "execution_count": 10,
   "metadata": {},
   "outputs": [],
   "source": [
    "selectors = {\n",
    "    'opinion_id': (None, \"data-entry-id\"),\n",
    "    'author': (\"span.user-post__author-name\",),\n",
    "    'recommendation': (\"span.user-post__author-recomendation > em\",),\n",
    "    'stars': (\"span.user-post__score-count\",),\n",
    "    'content': (\"div.user-post__text\",),\n",
    "    'pros': (\"div.review-feature__title--positives ~ div.review-feature__item\", None, True),\n",
    "    'cons': (\"div.review-feature__title--negatives ~ div.review-feature__item\", None, True),\n",
    "    'post_date': (\"span.user-post__published > time:nth-child(1)\",\"datetime\"),\n",
    "    'purchase_date': (\"span.user-post__published > time:nth-child(2)\",\"datetime\"),\n",
    "    'useful': (\"button.vote-yes > span\",),\n",
    "    'useless': (\"button.vote-no > span\",),\n",
    "}"
   ]
  },
  {
   "cell_type": "markdown",
   "metadata": {},
   "source": [
    "### 4. Podanie adresu pierwwszej strony z opnmiami na podstawie kodu produktu"
   ]
  },
  {
   "cell_type": "code",
   "execution_count": 11,
   "metadata": {},
   "outputs": [],
   "source": [
    "product_code = input(\"Podaj kod produktu z Ceneo.pl: \")\n",
    "url = f\"https://www.ceneo.pl/{product_code}#tab=reviews\""
   ]
  },
  {
   "cell_type": "markdown",
   "metadata": {},
   "source": [
    "### 5. Pobranie wszystkich opini o produkcie z serwisu Ceneo.pl"
   ]
  },
  {
   "cell_type": "code",
   "execution_count": 12,
   "metadata": {},
   "outputs": [
    {
     "name": "stdout",
     "output_type": "stream",
     "text": [
      "https://www.ceneo.pl/104770639#tab=reviews\n",
      "https://ceneo.pl/104770639/opinie-2\n",
      "https://ceneo.pl/104770639/opinie-3\n",
      "https://ceneo.pl/104770639/opinie-4\n",
      "https://ceneo.pl/104770639/opinie-5\n"
     ]
    }
   ],
   "source": [
    "all_opinions = []\n",
    "while(url):\n",
    "    print(url)\n",
    "    response = requests.get(url)\n",
    "    page = BeautifulSoup(response.text, \"html.parser\")\n",
    "    opinions = page.select(\"div.js_product-review\")\n",
    "    for opinion in opinions:\n",
    "        single_opinion = {\n",
    "            key: get_data(opinion, *value)\n",
    "                for key, value in selectors.items()\n",
    "        }\n",
    "        all_opinions.append(single_opinion)\n",
    "    try:\n",
    "        url = \"https://ceneo.pl\"+page.select_one(\"a.pagination__next\")[\"href\"]\n",
    "    except TypeError:\n",
    "        url = None"
   ]
  },
  {
   "cell_type": "markdown",
   "metadata": {},
   "source": [
    "### 6. Zapis opni do plikui json"
   ]
  },
  {
   "cell_type": "code",
   "execution_count": 15,
   "metadata": {},
   "outputs": [],
   "source": [
    "if not os.path.exists(\"opinions\"):\n",
    "    os.mkdir(\"opinions\")\n",
    "jf = open(f\"opinions/{product_code}.json\", \"w\", encoding=\"UTF-8\")\n",
    "json.dump(all_opinions, jf, indent=4, ensure_ascii=False)\n",
    "jf.close()"
   ]
  },
  {
   "cell_type": "code",
   "execution_count": 14,
   "metadata": {},
   "outputs": [],
   "source": [
    "\n",
    "# all_opinions = []\n",
    "# for opinion in opinions:\n",
    "#     single_opinion = {\n",
    "#         'opinion_id': opinion[\"data-entry-id\"],\n",
    "#         'author':  opinion.select_one(\".user-post__author-name\").text,\n",
    "#         'recommendation': opinion.select_one(\".user-post__author-recomendation > em\").text,\n",
    "#         'stars': opinion.select_one(\".user-post__score-count\").text,\n",
    "#         'content': opinion.select_one(\".user-post__text\").text,\n",
    "#         'pros': [p.text for p in opinion.select(\".review-feature__title--positives ~ .review-feature__item\")],\n",
    "#         'cons': [c.text for c in opinion.select(\".review-feature__title--negaives ~ .review-feature__item\")],\n",
    "#         'post_date': opinion.select_one(\".user-post__published > time:nth-child(1)\")['datetime'],\n",
    "#         'purchase_date': opinion.select_one(\".user-post__published > time:nth-child(2)\")['datetime'] if  opinion.select_one(\".user-post__published > time:nth-child(2)\") else '',\n",
    "#         'useful': opinion.select_one(\".vote-yes > span\").text,\n",
    "#         'uselesss': opinion.select_one(\".vote-no > span\").text,\n",
    "#     }\n",
    "\n",
    "#     all_opinions.append(single_opinion)\n",
    "#     #print( single_opinion )\n",
    "\n",
    "\n",
    "# print(all_opinions)"
   ]
  }
 ],
 "metadata": {
  "kernelspec": {
   "display_name": ".venv",
   "language": "python",
   "name": "python3"
  },
  "language_info": {
   "codemirror_mode": {
    "name": "ipython",
    "version": 3
   },
   "file_extension": ".py",
   "mimetype": "text/x-python",
   "name": "python",
   "nbconvert_exporter": "python",
   "pygments_lexer": "ipython3",
   "version": "3.11.2"
  }
 },
 "nbformat": 4,
 "nbformat_minor": 2
}
